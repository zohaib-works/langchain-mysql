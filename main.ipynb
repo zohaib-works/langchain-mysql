{
 "cells": [
  {
   "cell_type": "code",
   "execution_count": 24,
   "id": "edb5ca7e-9137-4f8b-9059-21a3388cd9d4",
   "metadata": {},
   "outputs": [],
   "source": [
    "from langchain_core.prompts import ChatPromptTemplate\n",
    "from langchain_community.utilities import SQLDatabase\n",
    "from langchain_core.output_parsers import StrOutputParser\n",
    "from langchain_core.runnables import RunnablePassthrough\n",
    "from langchain_openai import ChatOpenAI\n",
    "from dotenv import load_dotenv"
   ]
  },
  {
   "cell_type": "code",
   "execution_count": 25,
   "id": "e329dd51-18ba-46bb-936b-cbf6b2e70502",
   "metadata": {},
   "outputs": [
    {
     "data": {
      "text/plain": [
       "True"
      ]
     },
     "execution_count": 25,
     "metadata": {},
     "output_type": "execute_result"
    }
   ],
   "source": [
    "load_dotenv()"
   ]
  },
  {
   "cell_type": "code",
   "execution_count": 26,
   "id": "50bf8aeb-4d05-4b57-8832-be1d17636fb6",
   "metadata": {},
   "outputs": [],
   "source": [
    "template = \"\"\"\n",
    "You are an expert SQL query writer. \n",
    "Given the database schema and the user's question, write the most accurate SQL query to answer the question. \n",
    "Use only the tables and columns mentioned in the schema.\n",
    "\n",
    "Schema:\n",
    "{schema}\n",
    "\n",
    "Question:\n",
    "{question}\n",
    "\n",
    "SQL Query:\n",
    "\"\"\"\n",
    "prompt = ChatPromptTemplate.from_template(template)"
   ]
  },
  {
   "cell_type": "code",
   "execution_count": 27,
   "id": "5c279d65-a513-4fce-a23d-960dbe0d266e",
   "metadata": {},
   "outputs": [
    {
     "data": {
      "text/plain": [
       "\"Human: \\nYou are an expert SQL query writer. \\nGiven the database schema and the user's question, write the most accurate SQL query to answer the question. \\nUse only the tables and columns mentioned in the schema.\\n\\nSchema:\\nmyschema\\n\\nQuestion:\\nHow many users are there?\\n\\nSQL Query:\\n\""
      ]
     },
     "execution_count": 27,
     "metadata": {},
     "output_type": "execute_result"
    }
   ],
   "source": [
    "# Fill in the schema and question placeholders in the prompt\n",
    "formatted_prompt = prompt.format(\n",
    "    schema=\"myschema\",                     # Database schema info\n",
    "    question=\"How many users are there?\"   # User's natural language question\n",
    ")\n",
    "\n",
    "# Print the final prompt (ready for the LLM)\n",
    "print(formatted_prompt)\n"
   ]
  },
  {
   "cell_type": "code",
   "execution_count": 28,
   "id": "db73741d-43d1-4607-bd17-c285a73a8044",
   "metadata": {},
   "outputs": [],
   "source": [
    "# Define the database connection URI\n",
    "# Format: \"mysql+mysqlconnector://<username>:<password>@<host>:<port>/<database_name>\"\n",
    "db_uri = \"mysql+mysqlconnector://root:@localhost:3306/chinook\"\n",
    "\n",
    "# Create a LangChain SQLDatabase object using the connection URI\n",
    "# This lets LangChain interact directly with your MySQL database\n",
    "db = SQLDatabase.from_uri(db_uri)"
   ]
  },
  {
   "cell_type": "code",
   "execution_count": 29,
   "id": "cd4dffec-78bf-4b92-8e40-0ab064ef3e03",
   "metadata": {
    "scrolled": true
   },
   "outputs": [],
   "source": [
    "# Define a function to get the database schema (tables and columns)\n",
    "def get_schema(_):\n",
    "    # Returns information about all tables in the connected database\n",
    "    return db.get_table_info()"
   ]
  },
  {
   "cell_type": "code",
   "execution_count": 30,
   "id": "33aef667-54ab-46df-b17b-54577232700d",
   "metadata": {},
   "outputs": [],
   "source": [
    "# Create an instance of the OpenAI chat model (LLM)\n",
    "llm = ChatOpenAI()"
   ]
  },
  {
   "cell_type": "code",
   "execution_count": 31,
   "id": "8c21838e-97ae-4bfe-8b1b-f29e75162906",
   "metadata": {},
   "outputs": [],
   "source": [
    "# Create a LangChain pipeline (chain) to generate SQL queries step by step\n",
    "sql_chain = (\n",
    "    RunnablePassthrough.assign(schema=get_schema)  # Get the database schema\n",
    "    | prompt                                       # Insert schema & question into the prompt\n",
    "    | llm.bind(stop=\"\\nSQL Result:\")               # Use the LLM to generate the SQL query\n",
    "    | StrOutputParser()                            # Extract the text output from the LLM\n",
    ")"
   ]
  },
  {
   "cell_type": "code",
   "execution_count": 32,
   "id": "bc2210b2-1708-40cc-a1e4-b12512b9d8cb",
   "metadata": {},
   "outputs": [],
   "source": [
    "# Define a template for generating natural language answers from SQL results\n",
    "template = \"\"\"\n",
    "You are a data analyst. Using the table schema, SQL query, and its result, generate a clear answer to the user's question.\n",
    "\n",
    "Schema:\n",
    "{schema}\n",
    "\n",
    "Question:\n",
    "{question}\n",
    "\n",
    "SQL Query:\n",
    "{query}\n",
    "\n",
    "SQL Response:\n",
    "{response}\n",
    "\"\"\"\n",
    "\n",
    "# Create a ChatPromptTemplate object from the template\n",
    "prompt = ChatPromptTemplate.from_template(template)"
   ]
  },
  {
   "cell_type": "code",
   "execution_count": 35,
   "id": "cdd3eedb-0719-4c51-8444-239bba01d9c6",
   "metadata": {},
   "outputs": [],
   "source": [
    "# Define a function to run an SQL query on the connected database\n",
    "def run_query(query):\n",
    "    # Executes the given SQL query and returns the result\n",
    "    return db.run(query)"
   ]
  },
  {
   "cell_type": "code",
   "execution_count": 36,
   "id": "37b07048-e5fd-4c48-9594-6b7f8d4b0703",
   "metadata": {},
   "outputs": [],
   "source": [
    "# Create the full LangChain pipeline to go from question → SQL → result → answer\n",
    "full_chain = (\n",
    "    RunnablePassthrough.assign(query=sql_chain)         # Generate the SQL query from the question\n",
    "    .assign(\n",
    "        schema=get_schema,                              # Get the database schema\n",
    "        response=lambda vars: run_query(vars[\"query\"])  # Run the generated SQL query and get results\n",
    "    )\n",
    "    | prompt                                             # Fill the final prompt with schema, query, and response\n",
    "    | llm                                                # Use the LLM to generate a answer\n",
    "    | StrOutputParser()                                  # Extract plain text output from the model\n",
    ")\n"
   ]
  },
  {
   "cell_type": "code",
   "execution_count": 37,
   "id": "e8b15d59-f392-4763-a54f-e3d7b339eb19",
   "metadata": {},
   "outputs": [],
   "source": [
    "# Send a question to the full chain to generate and run an SQL query\n",
    "result = full_chain.invoke({\n",
    "    \"question\": \"Which three countries have the highest total amounts?\"\n",
    "})\n",
    "\n",
    "# Print the final result\n",
    "print(result)\n"
   ]
  },
  {
   "cell_type": "code",
   "execution_count": 38,
   "id": "cce8a3fd-a54d-4e4e-8897-9258c8dcf2d7",
   "metadata": {},
   "outputs": [
    {
     "name": "stdout",
     "output_type": "stream",
     "text": [
      "The three countries with the highest total amounts from invoices are the USA with a total amount of $523.06, followed by Canada with a total amount of $303.96, and France with a total amount of $195.10.\n"
     ]
    }
   ],
   "source": [
    "print(result)"
   ]
  },
  {
   "cell_type": "code",
   "execution_count": null,
   "id": "e69a0fe0-db0d-496d-871f-1e64dbd03ae3",
   "metadata": {},
   "outputs": [],
   "source": []
  }
 ],
 "metadata": {
  "kernelspec": {
   "display_name": "Python 3 (ipykernel)",
   "language": "python",
   "name": "python3"
  },
  "language_info": {
   "codemirror_mode": {
    "name": "ipython",
    "version": 3
   },
   "file_extension": ".py",
   "mimetype": "text/x-python",
   "name": "python",
   "nbconvert_exporter": "python",
   "pygments_lexer": "ipython3",
   "version": "3.13.2"
  }
 },
 "nbformat": 4,
 "nbformat_minor": 5
}
